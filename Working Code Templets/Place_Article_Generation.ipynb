{
  "nbformat": 4,
  "nbformat_minor": 0,
  "metadata": {
    "colab": {
      "provenance": []
    },
    "kernelspec": {
      "name": "python3",
      "display_name": "Python 3"
    },
    "language_info": {
      "name": "python"
    }
  },
  "cells": [
    {
      "cell_type": "markdown",
      "source": [
        "**This function is used to extract tbe label value of the string.**"
      ],
      "metadata": {
        "id": "MbI08nIXDXCt"
      }
    },
    {
      "cell_type": "markdown",
      "source": [
        "As all the inputs are nested links in wiki data so its necessary to extaract the label using Web scraping.\n",
        "Used BeautifulSoup"
      ],
      "metadata": {
        "id": "PWnPWvtuD8xR"
      }
    },
    {
      "cell_type": "code",
      "source": [
        "from urllib.request import urlopen\n",
        "from bs4 import BeautifulSoup\n",
        "\n",
        "import pprint\n",
        "import requests\n",
        "# Defined a function to convert links to labels to put in text \n",
        "def ConverterFxn(input_Values):\n",
        "  input_Values = input_Values.replace('entity','wiki')\n",
        "  html = urlopen(input_Values)\n",
        "  bsh = BeautifulSoup(html.read(), 'html.parser')\n",
        "  x = bsh.h1\n",
        "  x = str(x)\n",
        "  # Converting link to usable form as extracted links are nested <Label type> and cant be used to web scrape\n",
        "  Lidx = x.find('</span>')\n",
        "  Iidx = x.find('wikibase-title-label') + 22\n",
        "  New_string = \"\"\n",
        "  for i in range(Iidx,Lidx):\n",
        "    New_string = New_string + x[i]\n",
        "  return(New_string)"
      ],
      "metadata": {
        "id": "RH-lqMca6fkd"
      },
      "execution_count": 64,
      "outputs": []
    },
    {
      "cell_type": "markdown",
      "source": [],
      "metadata": {
        "id": "G4waX_XskRY2"
      }
    },
    {
      "cell_type": "code",
      "source": [
        "import pprint\n",
        "from pydoc import describe\n",
        "from re import S\n",
        "import requests\n",
        "# To Get Search Result we search the query o wiki data search box utilise the most relevant search\n",
        "API_ENDPOINT = \"https://www.wikidata.org/w/api.php\"\n",
        "query = input('Search Here ')\n",
        "\n",
        "params = {\n",
        "    'action': 'wbsearchentities',\n",
        "    'format': 'json',\n",
        "    'language': 'en',\n",
        "    'search': query\n",
        "}\n",
        "\n",
        "r = requests.get(API_ENDPOINT, params = params)\n",
        "Data = r.json()['search'][0]\n",
        "print(r.json()['search'][0])"
      ],
      "metadata": {
        "colab": {
          "base_uri": "https://localhost:8080/"
        },
        "id": "10v_GVXAe2Wr",
        "outputId": "aa101635-2d12-428e-cd9f-18e21b876c5f"
      },
      "execution_count": 65,
      "outputs": [
        {
          "output_type": "stream",
          "name": "stdout",
          "text": [
            "Search Here Luknow\n",
            "{'id': 'Q47916', 'title': 'Q47916', 'pageid': 49956, 'display': {'label': {'value': 'Lucknow', 'language': 'en'}, 'description': {'value': 'capital of Uttar Pradesh, India', 'language': 'en'}}, 'repository': 'wikidata', 'url': '//www.wikidata.org/wiki/Q47916', 'concepturi': 'http://www.wikidata.org/entity/Q47916', 'label': 'Lucknow', 'description': 'capital of Uttar Pradesh, India', 'match': {'type': 'label', 'language': 'ug', 'text': 'Luknow'}, 'aliases': ['Luknow']}\n"
          ]
        }
      ]
    },
    {
      "cell_type": "markdown",
      "source": [
        "**Checking if the Data (initial) is working**"
      ],
      "metadata": {
        "id": "BndhkaW0FGCS"
      }
    },
    {
      "cell_type": "code",
      "source": [
        "# Checking the functionality of link of page from which we will extracct data\n",
        "print(Data['concepturi'])"
      ],
      "metadata": {
        "colab": {
          "base_uri": "https://localhost:8080/"
        },
        "id": "Kx4fugBze3EM",
        "outputId": "067fb88e-b826-4279-e427-684da75bb903"
      },
      "execution_count": 66,
      "outputs": [
        {
          "output_type": "stream",
          "name": "stdout",
          "text": [
            "http://www.wikidata.org/entity/Q47916\n"
          ]
        }
      ]
    },
    {
      "cell_type": "markdown",
      "source": [
        "Installing qwikidata api"
      ],
      "metadata": {
        "id": "MYPtowE6FZJt"
      }
    },
    {
      "cell_type": "code",
      "source": [
        "!pip3 install qwikidata"
      ],
      "metadata": {
        "colab": {
          "base_uri": "https://localhost:8080/"
        },
        "id": "jHkHbEZCe4fD",
        "outputId": "53348dd6-49b8-4f14-931a-817e2169e2fb"
      },
      "execution_count": 67,
      "outputs": [
        {
          "output_type": "stream",
          "name": "stdout",
          "text": [
            "Looking in indexes: https://pypi.org/simple, https://us-python.pkg.dev/colab-wheels/public/simple/\n",
            "Requirement already satisfied: qwikidata in /usr/local/lib/python3.7/dist-packages (0.4.2)\n",
            "Requirement already satisfied: requests in /usr/local/lib/python3.7/dist-packages (from qwikidata) (2.28.1)\n",
            "Requirement already satisfied: mypy-extensions in /usr/local/lib/python3.7/dist-packages (from qwikidata) (0.4.3)\n",
            "Requirement already satisfied: idna<4,>=2.5 in /usr/local/lib/python3.7/dist-packages (from requests->qwikidata) (2.10)\n",
            "Requirement already satisfied: charset-normalizer<3,>=2 in /usr/local/lib/python3.7/dist-packages (from requests->qwikidata) (2.1.1)\n",
            "Requirement already satisfied: certifi>=2017.4.17 in /usr/local/lib/python3.7/dist-packages (from requests->qwikidata) (2022.9.24)\n",
            "Requirement already satisfied: urllib3<1.27,>=1.21.1 in /usr/local/lib/python3.7/dist-packages (from requests->qwikidata) (1.24.3)\n"
          ]
        }
      ]
    },
    {
      "cell_type": "markdown",
      "source": [
        "Installing mkwikidata"
      ],
      "metadata": {
        "id": "rHKutVSzFct2"
      }
    },
    {
      "cell_type": "code",
      "source": [
        "!pip3 install mkwikidata"
      ],
      "metadata": {
        "colab": {
          "base_uri": "https://localhost:8080/"
        },
        "id": "StUVc4FZe7N2",
        "outputId": "6385bcf1-f41a-46c3-e292-7753c7813eca"
      },
      "execution_count": 68,
      "outputs": [
        {
          "output_type": "stream",
          "name": "stdout",
          "text": [
            "Looking in indexes: https://pypi.org/simple, https://us-python.pkg.dev/colab-wheels/public/simple/\n",
            "Requirement already satisfied: mkwikidata in /usr/local/lib/python3.7/dist-packages (0.14)\n",
            "Requirement already satisfied: requests>=2.25.1 in /usr/local/lib/python3.7/dist-packages (from mkwikidata) (2.28.1)\n",
            "Requirement already satisfied: charset-normalizer<3,>=2 in /usr/local/lib/python3.7/dist-packages (from requests>=2.25.1->mkwikidata) (2.1.1)\n",
            "Requirement already satisfied: idna<4,>=2.5 in /usr/local/lib/python3.7/dist-packages (from requests>=2.25.1->mkwikidata) (2.10)\n",
            "Requirement already satisfied: certifi>=2017.4.17 in /usr/local/lib/python3.7/dist-packages (from requests>=2.25.1->mkwikidata) (2022.9.24)\n",
            "Requirement already satisfied: urllib3<1.27,>=1.21.1 in /usr/local/lib/python3.7/dist-packages (from requests>=2.25.1->mkwikidata) (1.24.3)\n"
          ]
        }
      ]
    },
    {
      "cell_type": "markdown",
      "source": [
        "**Code to make/edit optimised queries for different links and instances**"
      ],
      "metadata": {
        "id": "6PsHkSn9FgVF"
      }
    },
    {
      "cell_type": "code",
      "source": [
        "import pprint\n",
        "import mkwikidata\n",
        "\n",
        "import requests\n",
        "\n",
        "query2 = '''\n",
        "  { ?article  schema:about       ?item ;\n",
        "              schema:inLanguage  \"en\" ;\n",
        "              schema:isPartOf    <https://en.wikipedia.org/>\n",
        "              '''              \n",
        "query3 = f'''          \n",
        "    FILTER ( ?item = <{Data['concepturi']}> )\n",
        "    '''\n",
        "query4 = ''' \n",
        "   OPTIONAL\n",
        "      { ?item  wdt:P1448  ?Name }\n",
        "   OPTIONAL\n",
        "      { ?item  wdt:P361  ?City_Part_Of}\n",
        "   OPTIONAL\n",
        "      { ?item  wdt:P625  ?Coordinate_Location }\n",
        "   OPTIONAL\n",
        "      { ?item  wdt:P1540  ?Male_Population }\n",
        "   OPTIONAL\n",
        "      { ?item  wdt:P1539  ?Female_Population }\n",
        "   OPTIONAL\n",
        "      { ?item  wdt:P6343  ?City_Urban_Population }\n",
        "   OPTIONAL\n",
        "      { ?item  wdt:P2044  ?SeaLevel }\n",
        "   OPTIONAL\n",
        "      { ?item  wdt:P421  ?TimeZone }\n",
        "   OPTIONAL\n",
        "      { ?item  wdt:P2046  ?City_Area}\n",
        "   OPTIONAL\n",
        "      { ?item  wdt:P6499  ?Place_Literacy}\n",
        "   OPTIONAL\n",
        "      { ?item  wdt:P6498  ?Place_Illetracy}\n",
        "   OPTIONAL\n",
        "      { ?item  wdt:P10091  ?City_Death_Rate}\n",
        "   OPTIONAL\n",
        "      { ?item  wdt:P8763  ?City_Birth_Rate}\n",
        "   OPTIONAL\n",
        "      { ?item  wdt:P138  ?City_named_After}\n",
        "   OPTIONAL\n",
        "      { ?item  wdt:P3529  ?Place_MedianIncome}\n",
        "   OPTIONAL\n",
        "      { ?item  wdt:P281  ?City_postal_Code}\n",
        "   \n",
        "    SERVICE wikibase:label\n",
        "      { bd:serviceParam\n",
        "                  wikibase:language  \"en\"\n",
        "      }\n",
        "  }\n",
        "GROUP BY ?item ?itemLabel ?itemDescription\n",
        "'''\n",
        "\n",
        "\n",
        "url = 'https://query.wikidata.org/sparql'\n",
        "query1 = f'''\n",
        "PREFIX  schema: <http://schema.org/>\n",
        "PREFIX  bd:   <http://www.bigdata.com/rdf#>\n",
        "PREFIX  wdt:  <http://www.wikidata.org/prop/direct/>\n",
        "PREFIX  wikibase: <http://wikiba.se/ontology#>\n",
        "\n",
        "SELECT DISTINCT  ?item ?itemLabel ?itemDescription (SAMPLE(?Name) AS ?NameSample)  (SAMPLE(?City_Part_Of) AS ?City_Part_OfSample) (SAMPLE(?Coordinate_Location) AS ?Coordinate_LocationSample) (SAMPLE(?Male_Population) AS ?Male_PopulationSample) (SAMPLE(?Female_Population) AS ?Female_PopulationSample) (SAMPLE(?City_Urban_Population) AS ?City_Urban_PopulationSample) (SAMPLE(?SeaLevel) AS ?SeaLevelSample) (SAMPLE(?TimeZone) AS ?TimeZone) (SAMPLE(?City_Area) AS ?City_AreaSample) (SAMPLE(?Place_Literacy) AS ?Place_LiteracySample) (SAMPLE(?Place_Illetracy) AS ?Place_IlletracySample) (SAMPLE(?City_Birth_Rate) AS ?City_Birth_RateSample) (SAMPLE(?City_Death_Rate) AS ?City_Death_RateSample) (SAMPLE(?City_named_After) AS ?City_named_AfterSample) (SAMPLE(?Place_MedianIncome) AS ?Place_MedianIncomeSample) (SAMPLE(?City_postal_Code) AS ?City_postal_CodeSample)\n",
        "\n",
        "WHERE\n",
        "\n",
        "'''\n",
        "query = query1 + query2 + query3 + query4\n",
        "\n",
        "\n",
        "r = requests.get(url, params = {'format': 'json', 'query': query})\n",
        "data = r.json()\n"
      ],
      "metadata": {
        "id": "yu0R0z4FfQ5a"
      },
      "execution_count": 69,
      "outputs": []
    },
    {
      "cell_type": "markdown",
      "source": [
        "**Checking if generated query is in perfect form**"
      ],
      "metadata": {
        "id": "Jce6xCUDF3x2"
      }
    },
    {
      "cell_type": "code",
      "source": [
        "print(query)"
      ],
      "metadata": {
        "colab": {
          "base_uri": "https://localhost:8080/"
        },
        "id": "mhZ8YvGJfSW-",
        "outputId": "0750f370-b603-4b0d-9b23-319f62282577"
      },
      "execution_count": 70,
      "outputs": [
        {
          "output_type": "stream",
          "name": "stdout",
          "text": [
            "\n",
            "PREFIX  schema: <http://schema.org/>\n",
            "PREFIX  bd:   <http://www.bigdata.com/rdf#>\n",
            "PREFIX  wdt:  <http://www.wikidata.org/prop/direct/>\n",
            "PREFIX  wikibase: <http://wikiba.se/ontology#>\n",
            "\n",
            "SELECT DISTINCT  ?item ?itemLabel ?itemDescription (SAMPLE(?Name) AS ?NameSample)  (SAMPLE(?City_Part_Of) AS ?City_Part_OfSample) (SAMPLE(?Coordinate_Location) AS ?Coordinate_LocationSample) (SAMPLE(?Male_Population) AS ?Male_PopulationSample) (SAMPLE(?Female_Population) AS ?Female_PopulationSample) (SAMPLE(?City_Urban_Population) AS ?City_Urban_PopulationSample) (SAMPLE(?SeaLevel) AS ?SeaLevelSample) (SAMPLE(?TimeZone) AS ?TimeZone) (SAMPLE(?City_Area) AS ?City_AreaSample) (SAMPLE(?Place_Literacy) AS ?Place_LiteracySample) (SAMPLE(?Place_Illetracy) AS ?Place_IlletracySample) (SAMPLE(?City_Birth_Rate) AS ?City_Birth_RateSample) (SAMPLE(?City_Death_Rate) AS ?City_Death_RateSample) (SAMPLE(?City_named_After) AS ?City_named_AfterSample) (SAMPLE(?Place_MedianIncome) AS ?Place_MedianIncomeSample) (SAMPLE(?City_postal_Code) AS ?City_postal_CodeSample)\n",
            "\n",
            "WHERE\n",
            "\n",
            "\n",
            "  { ?article  schema:about       ?item ;\n",
            "              schema:inLanguage  \"en\" ;\n",
            "              schema:isPartOf    <https://en.wikipedia.org/>\n",
            "                        \n",
            "    FILTER ( ?item = <http://www.wikidata.org/entity/Q47916> )\n",
            "     \n",
            "   OPTIONAL\n",
            "      { ?item  wdt:P1448  ?Name }\n",
            "   OPTIONAL\n",
            "      { ?item  wdt:P361  ?City_Part_Of}\n",
            "   OPTIONAL\n",
            "      { ?item  wdt:P625  ?Coordinate_Location }\n",
            "   OPTIONAL\n",
            "      { ?item  wdt:P1540  ?Male_Population }\n",
            "   OPTIONAL\n",
            "      { ?item  wdt:P1539  ?Female_Population }\n",
            "   OPTIONAL\n",
            "      { ?item  wdt:P6343  ?City_Urban_Population }\n",
            "   OPTIONAL\n",
            "      { ?item  wdt:P2044  ?SeaLevel }\n",
            "   OPTIONAL\n",
            "      { ?item  wdt:P421  ?TimeZone }\n",
            "   OPTIONAL\n",
            "      { ?item  wdt:P2046  ?City_Area}\n",
            "   OPTIONAL\n",
            "      { ?item  wdt:P6499  ?Place_Literacy}\n",
            "   OPTIONAL\n",
            "      { ?item  wdt:P6498  ?Place_Illetracy}\n",
            "   OPTIONAL\n",
            "      { ?item  wdt:P10091  ?City_Death_Rate}\n",
            "   OPTIONAL\n",
            "      { ?item  wdt:P8763  ?City_Birth_Rate}\n",
            "   OPTIONAL\n",
            "      { ?item  wdt:P138  ?City_named_After}\n",
            "   OPTIONAL\n",
            "      { ?item  wdt:P3529  ?Place_MedianIncome}\n",
            "   OPTIONAL\n",
            "      { ?item  wdt:P281  ?City_postal_Code}\n",
            "   \n",
            "    SERVICE wikibase:label\n",
            "      { bd:serviceParam\n",
            "                  wikibase:language  \"en\"\n",
            "      }\n",
            "  }\n",
            "GROUP BY ?item ?itemLabel ?itemDescription\n",
            "\n"
          ]
        }
      ]
    },
    {
      "cell_type": "markdown",
      "source": [
        "**Checking extracted data extracted with help of the query**"
      ],
      "metadata": {
        "id": "Bheg5OykF-Lv"
      }
    },
    {
      "cell_type": "code",
      "source": [
        "pprint.pprint(data)"
      ],
      "metadata": {
        "colab": {
          "base_uri": "https://localhost:8080/"
        },
        "id": "YwBRrRzDfVW-",
        "outputId": "3dd95aef-9dc9-48ad-95ac-576e0be1da69"
      },
      "execution_count": 71,
      "outputs": [
        {
          "output_type": "stream",
          "name": "stdout",
          "text": [
            "{'head': {'vars': ['item',\n",
            "                   'itemLabel',\n",
            "                   'itemDescription',\n",
            "                   'NameSample',\n",
            "                   'City_Part_OfSample',\n",
            "                   'Coordinate_LocationSample',\n",
            "                   'Male_PopulationSample',\n",
            "                   'Female_PopulationSample',\n",
            "                   'City_Urban_PopulationSample',\n",
            "                   'SeaLevelSample',\n",
            "                   'TimeZone',\n",
            "                   'City_AreaSample',\n",
            "                   'Place_LiteracySample',\n",
            "                   'Place_IlletracySample',\n",
            "                   'City_Birth_RateSample',\n",
            "                   'City_Death_RateSample',\n",
            "                   'City_named_AfterSample',\n",
            "                   'Place_MedianIncomeSample',\n",
            "                   'City_postal_CodeSample']},\n",
            " 'results': {'bindings': [{'City_AreaSample': {'datatype': 'http://www.w3.org/2001/XMLSchema#decimal',\n",
            "                                               'type': 'literal',\n",
            "                                               'value': '631'},\n",
            "                           'City_postal_CodeSample': {'type': 'literal',\n",
            "                                                      'value': '226001–226026'},\n",
            "                           'Coordinate_LocationSample': {'datatype': 'http://www.opengis.net/ont/geosparql#wktLiteral',\n",
            "                                                         'type': 'literal',\n",
            "                                                         'value': 'Point(80.947 '\n",
            "                                                                  '26.847)'},\n",
            "                           'Female_PopulationSample': {'datatype': 'http://www.w3.org/2001/XMLSchema#decimal',\n",
            "                                                       'type': 'literal',\n",
            "                                                       'value': '1345468'},\n",
            "                           'Male_PopulationSample': {'datatype': 'http://www.w3.org/2001/XMLSchema#decimal',\n",
            "                                                     'type': 'literal',\n",
            "                                                     'value': '1470133'},\n",
            "                           'NameSample': {'type': 'literal',\n",
            "                                          'value': 'लखनऊ',\n",
            "                                          'xml:lang': 'hi'},\n",
            "                           'SeaLevelSample': {'datatype': 'http://www.w3.org/2001/XMLSchema#decimal',\n",
            "                                              'type': 'literal',\n",
            "                                              'value': '123'},\n",
            "                           'TimeZone': {'type': 'uri',\n",
            "                                        'value': 'http://www.wikidata.org/entity/Q6828'},\n",
            "                           'item': {'type': 'uri',\n",
            "                                    'value': 'http://www.wikidata.org/entity/Q47916'},\n",
            "                           'itemDescription': {'type': 'literal',\n",
            "                                               'value': 'capital of Uttar '\n",
            "                                                        'Pradesh, India',\n",
            "                                               'xml:lang': 'en'},\n",
            "                           'itemLabel': {'type': 'literal',\n",
            "                                         'value': 'Lucknow',\n",
            "                                         'xml:lang': 'en'}}]}}\n"
          ]
        }
      ]
    },
    {
      "cell_type": "markdown",
      "source": [
        "**Checking nested dictionary's functionality**"
      ],
      "metadata": {
        "id": "pKjmXukYGJbA"
      }
    },
    {
      "cell_type": "code",
      "source": [
        "print(data['head']['vars'][8])"
      ],
      "metadata": {
        "colab": {
          "base_uri": "https://localhost:8080/"
        },
        "id": "uCrI7GQ0fdyx",
        "outputId": "c9f407f2-b551-4bf4-c215-e5ce2e9102df"
      },
      "execution_count": 72,
      "outputs": [
        {
          "output_type": "stream",
          "name": "stdout",
          "text": [
            "City_Urban_PopulationSample\n"
          ]
        }
      ]
    },
    {
      "cell_type": "code",
      "source": [
        "# print(data['results']['bindings'][0]['NameSample']['value'])"
      ],
      "metadata": {
        "id": "xc3D1ru_fezD"
      },
      "execution_count": 73,
      "outputs": []
    },
    {
      "cell_type": "markdown",
      "source": [
        "**Converting data to usable form: **\n",
        "\n",
        "1.   Convertion of extracted data to usable variables.\n",
        "2.   Converting the data links to labels that could be used in text\n",
        "1.   Making sentences for the newly made variables.\n",
        "2.   printing of the variables \n",
        "\n",
        "Note : If any of the existing steps fails the variable will be skipped hence either the data is not present or non-editable."
      ],
      "metadata": {
        "id": "nYgAX8jnGZMn"
      }
    },
    {
      "cell_type": "markdown",
      "source": [
        "*All the variables that were required in all the groups are pre-labeled.*"
      ],
      "metadata": {
        "id": "Gz6m91DTH2gt"
      }
    },
    {
      "cell_type": "code",
      "source": [
        "City = data['results']['bindings'][0]['itemLabel']['value']\n",
        "output = ''\n",
        "\n",
        "try:\n",
        "  Description = data['results']['bindings'][0]['itemDescription']['value']\n",
        "  Place_Description = f''' {City} is {Description}.'''\n",
        "  output = output + Place_Description \n",
        "  print(Place_Description)\n",
        "except:\n",
        "  pass  \n",
        "\n",
        "try:\n",
        "  City_named_After = data['results']['bindings'][0]['City_named_AfterSample']['value']\n",
        "  City_named_After = ConverterFxn(City_named_After)\n",
        "  Named_After = f''' {City} is named after {City_named_After}.'''\n",
        "  output = output + Named_After\n",
        "  print(Named_After)\n",
        "except:\n",
        "  pass  \n",
        "\n",
        "\n",
        "try:\n",
        "  City_Part_Of = data['results']['bindings'][0]['City_Part_OfSample']['value']\n",
        "  City_Part_Of = ConverterFxn(City_Part_Of)\n",
        "  Part_Of = f''' It is part of {City_Part_Of}.'''\n",
        "  output = output + Part_Of\n",
        "  print(Part_Of)\n",
        "except:\n",
        "  pass\n",
        "\n",
        "try:\n",
        "  City_postal_Code = data['results']['bindings'][0]['City_postal_CodeSample']['value']\n",
        "  Place_Postal_Code = f''' The place have postal code {City_postal_Code}.'''\n",
        "  output = output + Place_Postal_Code\n",
        "  print(Place_Postal_Code)\n",
        "except:\n",
        "  pass\n",
        "\n",
        "try:\n",
        "  Coordinate_Location = data['results']['bindings'][0]['Coordinate_LocationSample']['value']\n",
        "  Place_location = f''' {City} has its coordinate location as {Coordinate_Location}.'''\n",
        "  output = output + Place_location\n",
        "  print(Place_location)\n",
        "except:\n",
        "  pass\n",
        "\n",
        "try:\n",
        "  City_Area = data['results']['bindings'][0]['City_AreaSample']['value']\n",
        "  Area = f''' It has its {City_Area} km square area.'''\n",
        "  output = output + Area\n",
        "  print(Area)\n",
        "except:\n",
        "  pass\n",
        "\n",
        "try:\n",
        "  Male_Population = data['results']['bindings'][0]['Male_PopulationSample']['value']\n",
        "  Male_Population_ = f''' It has its highest recorded male population as {Male_Population}.'''\n",
        "  output = output + Male_Population_\n",
        "  print(Male_Population_)\n",
        "except:\n",
        "  pass\n",
        "\n",
        "try:\n",
        "  Female_Population = data['results']['bindings'][0]['Female_PopulationSample']['value']\n",
        "  Female_Population_ = f''' It has its highest recorded female population as {Female_Population}.'''\n",
        "  output = output + Female_Population_\n",
        "  print(Female_Population_)\n",
        "except:\n",
        "  pass\n",
        "\n",
        "try:\n",
        "  City_Urban_Population = data['results']['bindings'][0]['City_Urban_PopulationSample']['value']\n",
        "  Urban_Population = f''' Its present urban population is {City_Urban_Population}.'''\n",
        "  output = output + Urban_Population\n",
        "  print(Urban_Population)\n",
        "except:\n",
        "  pass\n",
        "\n",
        "try:\n",
        "  SeaLevel = data['results']['bindings'][0]['SeaLevelSample']['value']\n",
        "  Place_elevation_Above_Sea_Level = f''' Its elevation above sea level is {SeaLevel}.'''\n",
        "  output = output + Place_elevation_Above_Sea_Level\n",
        "  print(Place_elevation_Above_Sea_Level)\n",
        "except:\n",
        "  pass\n",
        "\n",
        "try:\n",
        "  TimeZone = data['results']['bindings'][0]['TimeZone']['value']\n",
        "  TimeZone = ConverterFxn(TimeZone)\n",
        "  Place_TimeZone = f''' It is located in timezone {TimeZone}.'''\n",
        "  output = output + Place_TimeZone\n",
        "  print(Place_TimeZone)\n",
        "except:\n",
        "  pass\n",
        "\n",
        "\n",
        "try:\n",
        "  Place_Literacy = data['results']['bindings'][0]['Place_LiteracySample']['value']\n",
        "  Place_Illiteracy = NetWorth = data['results']['bindings'][0]['Place_IlletracySample']['value']\n",
        "  Place_Literacy = f''' The location got approximately {Place_Literacy} no of literate people and {Place_Illiteracy} no of illiterates.'''\n",
        "  output = output + Place_Literacy\n",
        "  print(Place_Literacy)\n",
        "except:\n",
        "  pass\n",
        "\n",
        "try:\n",
        "  City_Birth_Rate = NetWorth = data['results']['bindings'][0]['City_Birth_RateSample']['value']\n",
        "  Place_Birth_Rate = f''' {City} has a BirthRate of {City_Birth_Rate}.'''\n",
        "  output = output + Place_Birth_Rate\n",
        "  print(Place_Birth_Rate)\n",
        "except:\n",
        "  pass\n",
        "\n",
        "try:\n",
        "  City_Death_Rate = NetWorth = data['results']['bindings'][0]['City_Death_RateSample']['value']\n",
        "  Place_Death_Rate = f''' It has a death rate of {City_Death_Rate}.'''\n",
        "  output = output + Place_Death_Rate\n",
        "  print(Place_Death_Rate)\n",
        "except:\n",
        "  pass\n",
        "\n",
        "try:\n",
        "  Place_MedianIncome = NetWorth = data['results']['bindings'][0]['Place_MedianIncomeSample']['value']\n",
        "  Place_MedianIncome_ = f''' {City} has Median Income is {Place_MedianIncome}.'''\n",
        "  output = output + Place_MedianIncome_\n",
        "  print(Place_MedianIncome_)\n",
        "except:\n",
        "  pass\n",
        "\n",
        "\n"
      ],
      "metadata": {
        "colab": {
          "base_uri": "https://localhost:8080/"
        },
        "id": "mVe0NRaSfiWV",
        "outputId": "90baf86c-2c3f-4ac5-d3a2-ec44bf06089f"
      },
      "execution_count": 74,
      "outputs": [
        {
          "output_type": "stream",
          "name": "stdout",
          "text": [
            " Lucknow is capital of Uttar Pradesh, India.\n",
            " The place have postal code 226001–226026.\n",
            " Lucknow has its coordinate location as Point(80.947 26.847).\n",
            " It has its 631 km square area.\n",
            " It has its highest recorded male population as 1470133.\n",
            " It has its highest recorded female population as 1345468.\n",
            " Its elevation above sea level is 123.\n",
            " It is located in timezone UTC+05:30.\n"
          ]
        }
      ]
    },
    {
      "cell_type": "code",
      "source": [
        "pprint.pprint(output)"
      ],
      "metadata": {
        "colab": {
          "base_uri": "https://localhost:8080/"
        },
        "id": "MrVAVzDLXHWj",
        "outputId": "46cc6426-bab7-461f-e813-d68fe22f0ba5"
      },
      "execution_count": 75,
      "outputs": [
        {
          "output_type": "stream",
          "name": "stdout",
          "text": [
            "(' Lucknow is capital of Uttar Pradesh, India. The place have postal code '\n",
            " '226001–226026. Lucknow has its coordinate location as Point(80.947 26.847). '\n",
            " 'It has its 631 km square area. It has its highest recorded male population '\n",
            " 'as 1470133. It has its highest recorded female population as 1345468. Its '\n",
            " 'elevation above sea level is 123. It is located in timezone UTC+05:30.')\n"
          ]
        }
      ]
    }
  ]
}