{
  "cells": [
    {
      "cell_type": "markdown",
      "metadata": {
        "id": "MbI08nIXDXCt"
      },
      "source": [
        "**This function is used to extract tbe label value of the string.**"
      ]
    },
    {
      "cell_type": "markdown",
      "metadata": {
        "id": "PWnPWvtuD8xR"
      },
      "source": [
        "As all the inputs are nested links in wiki data so its necessary to extaract the label using Web scraping.\n",
        "Used BeautifulSoup"
      ]
    },
    {
      "cell_type": "code",
      "execution_count": 120,
      "metadata": {
        "id": "RH-lqMca6fkd"
      },
      "outputs": [],
      "source": [
        "from urllib.request import urlopen\n",
        "from bs4 import BeautifulSoup\n",
        "\n",
        "import pprint\n",
        "import requests\n",
        "# Defined a function to convert links to labels to put in text \n",
        "def ConverterFxn(input_Values):\n",
        "  input_Values = input_Values.replace('entity','wiki')\n",
        "  html = urlopen(input_Values)\n",
        "  bsh = BeautifulSoup(html.read(), 'html.parser')\n",
        "  x = bsh.h1\n",
        "  x = str(x)\n",
        "  # Converting link to usable form as extracted links are nested <Label type> and cant be used to web scrape\n",
        "  Lidx = x.find('</span>')\n",
        "  Iidx = x.find('wikibase-title-label') + 22\n",
        "  New_string = \"\"\n",
        "  for i in range(Iidx,Lidx):\n",
        "    New_string = New_string + x[i]\n",
        "  return(New_string)"
      ]
    },
    {
      "cell_type": "markdown",
      "metadata": {},
      "source": [
        "Searching the required url from the input data"
      ]
    },
    {
      "cell_type": "code",
      "execution_count": 121,
      "metadata": {
        "colab": {
          "base_uri": "https://localhost:8080/"
        },
        "id": "10v_GVXAe2Wr",
        "outputId": "32208a70-9bbe-41e4-e6b4-38644fad96a3"
      },
      "outputs": [
        {
          "name": "stdout",
          "output_type": "stream",
          "text": [
            "Search Here Microsoft\n",
            "{'id': 'Q2283', 'title': 'Q2283', 'pageid': 3223, 'display': {'label': {'value': 'Microsoft', 'language': 'en'}, 'description': {'value': 'American multinational technology corporation', 'language': 'en'}}, 'repository': 'wikidata', 'url': '//www.wikidata.org/wiki/Q2283', 'concepturi': 'http://www.wikidata.org/entity/Q2283', 'label': 'Microsoft', 'description': 'American multinational technology corporation', 'match': {'type': 'label', 'language': 'en', 'text': 'Microsoft'}}\n"
          ]
        }
      ],
      "source": [
        "import pprint\n",
        "from pydoc import describe\n",
        "from re import S\n",
        "import requests\n",
        "# To Get Search Result we search the query o wiki data search box utilise the most relevant search\n",
        "API_ENDPOINT = \"https://www.wikidata.org/w/api.php\"\n",
        "query = input('Search Here ')\n",
        "\n",
        "params = {\n",
        "    'action': 'wbsearchentities',\n",
        "    'format': 'json',\n",
        "    'language': 'en',\n",
        "    'search': query\n",
        "}\n",
        "\n",
        "r = requests.get(API_ENDPOINT, params = params)\n",
        "Data = r.json()['search'][0]\n",
        "print(r.json()['search'][0])"
      ]
    },
    {
      "cell_type": "markdown",
      "metadata": {
        "id": "BndhkaW0FGCS"
      },
      "source": [
        "**Checking if the Data (initial) is working**"
      ]
    },
    {
      "cell_type": "code",
      "execution_count": 122,
      "metadata": {
        "colab": {
          "base_uri": "https://localhost:8080/"
        },
        "id": "Kx4fugBze3EM",
        "outputId": "2c3945ea-25cf-44e1-f7e2-881df1fabbaa"
      },
      "outputs": [
        {
          "name": "stdout",
          "output_type": "stream",
          "text": [
            "http://www.wikidata.org/entity/Q2283\n"
          ]
        }
      ],
      "source": [
        "# Checking the functionality of link of page from which we will extracct data\n",
        "print(Data['concepturi'])"
      ]
    },
    {
      "cell_type": "markdown",
      "metadata": {
        "id": "MYPtowE6FZJt"
      },
      "source": [
        "Installing qwikidata api"
      ]
    },
    {
      "cell_type": "code",
      "execution_count": 123,
      "metadata": {
        "colab": {
          "base_uri": "https://localhost:8080/"
        },
        "id": "jHkHbEZCe4fD",
        "outputId": "808021ca-c788-4984-c06b-f30f076c0b6a"
      },
      "outputs": [
        {
          "name": "stdout",
          "output_type": "stream",
          "text": [
            "Looking in indexes: https://pypi.org/simple, https://us-python.pkg.dev/colab-wheels/public/simple/\n",
            "Requirement already satisfied: qwikidata in /usr/local/lib/python3.7/dist-packages (0.4.2)\n",
            "Requirement already satisfied: mypy-extensions in /usr/local/lib/python3.7/dist-packages (from qwikidata) (0.4.3)\n",
            "Requirement already satisfied: requests in /usr/local/lib/python3.7/dist-packages (from qwikidata) (2.28.1)\n",
            "Requirement already satisfied: charset-normalizer<3,>=2 in /usr/local/lib/python3.7/dist-packages (from requests->qwikidata) (2.1.1)\n",
            "Requirement already satisfied: certifi>=2017.4.17 in /usr/local/lib/python3.7/dist-packages (from requests->qwikidata) (2022.9.24)\n",
            "Requirement already satisfied: idna<4,>=2.5 in /usr/local/lib/python3.7/dist-packages (from requests->qwikidata) (2.10)\n",
            "Requirement already satisfied: urllib3<1.27,>=1.21.1 in /usr/local/lib/python3.7/dist-packages (from requests->qwikidata) (1.24.3)\n"
          ]
        }
      ],
      "source": [
        "!pip3 install qwikidata"
      ]
    },
    {
      "cell_type": "markdown",
      "metadata": {
        "id": "rHKutVSzFct2"
      },
      "source": [
        "Installing mkwikidata"
      ]
    },
    {
      "cell_type": "code",
      "execution_count": 124,
      "metadata": {
        "colab": {
          "base_uri": "https://localhost:8080/"
        },
        "id": "StUVc4FZe7N2",
        "outputId": "3092910c-ddc7-4353-a5b5-3d010fdc0891"
      },
      "outputs": [
        {
          "name": "stdout",
          "output_type": "stream",
          "text": [
            "Looking in indexes: https://pypi.org/simple, https://us-python.pkg.dev/colab-wheels/public/simple/\n",
            "Requirement already satisfied: mkwikidata in /usr/local/lib/python3.7/dist-packages (0.14)\n",
            "Requirement already satisfied: requests>=2.25.1 in /usr/local/lib/python3.7/dist-packages (from mkwikidata) (2.28.1)\n",
            "Requirement already satisfied: idna<4,>=2.5 in /usr/local/lib/python3.7/dist-packages (from requests>=2.25.1->mkwikidata) (2.10)\n",
            "Requirement already satisfied: certifi>=2017.4.17 in /usr/local/lib/python3.7/dist-packages (from requests>=2.25.1->mkwikidata) (2022.9.24)\n",
            "Requirement already satisfied: urllib3<1.27,>=1.21.1 in /usr/local/lib/python3.7/dist-packages (from requests>=2.25.1->mkwikidata) (1.24.3)\n",
            "Requirement already satisfied: charset-normalizer<3,>=2 in /usr/local/lib/python3.7/dist-packages (from requests>=2.25.1->mkwikidata) (2.1.1)\n"
          ]
        }
      ],
      "source": [
        "!pip3 install mkwikidata"
      ]
    },
    {
      "cell_type": "markdown",
      "metadata": {
        "id": "6PsHkSn9FgVF"
      },
      "source": [
        "**Code to make/edit optimised queries for different links and instances**"
      ]
    },
    {
      "cell_type": "code",
      "execution_count": 125,
      "metadata": {
        "id": "yu0R0z4FfQ5a"
      },
      "outputs": [],
      "source": [
        "import pprint\n",
        "import mkwikidata\n",
        "\n",
        "import requests\n",
        "\n",
        "query2 = '''\n",
        "  { ?article  schema:about       ?item ;\n",
        "              schema:inLanguage  \"en\" ;\n",
        "              schema:isPartOf    <https://en.wikipedia.org/>\n",
        "              '''              \n",
        "query3 = f'''          \n",
        "    FILTER ( ?item = <{Data['concepturi']}> )\n",
        "    '''\n",
        "query4 = ''' \n",
        "   OPTIONAL\n",
        "      { ?item  wdt:P735  ?Name }\n",
        "   OPTIONAL\n",
        "      { ?item  wdt:P1448  ?Company_Official_name }\n",
        "   OPTIONAL\n",
        "      { ?item  wdt:P103  ?Company_Industry }\n",
        "   OPTIONAL\n",
        "      { ?item  wdt:P34  ?Instance }\n",
        "   OPTIONAL\n",
        "      { ?item  wdt:P169  ?Company_chief_executive_officer }\n",
        "   OPTIONAL\n",
        "      { ?item  wdt:P17  ?Company_Country_Origin }\n",
        "   OPTIONAL\n",
        "      { ?item  wdt:P571  ?Comany_Inception_date }\n",
        "   OPTIONAL\n",
        "      { ?item  wdt:P112  ?Company_foudner }\n",
        "   OPTIONAL\n",
        "      { ?item  wdt:P127  ?Company_Owned_By }\n",
        "   OPTIONAL\n",
        "      { ?item  wdt:P159  ?Company_HeadQuarter_Location }\n",
        "   OPTIONAL\n",
        "      { ?item  wdt:P1128  ?Company_Employee_count }\n",
        "   OPTIONAL\n",
        "      { ?item  wdt:P8687  ?Social_Media_Followers }\n",
        "   OPTIONAL\n",
        "      { ?item  wdt:P166   ?Company_Award_Received }\n",
        "   OPTIONAL\n",
        "      { ?item  wdt:P355  ?Company_Subsidiary }\n",
        "   \n",
        "    SERVICE wikibase:label\n",
        "      { bd:serviceParam\n",
        "                  wikibase:language  \"en\"\n",
        "      }\n",
        "  }\n",
        "GROUP BY ?item ?itemLabel ?itemDescription\n",
        "'''\n",
        "\n",
        "\n",
        "url = 'https://query.wikidata.org/sparql'\n",
        "query1 = f'''\n",
        "PREFIX  schema: <http://schema.org/>\n",
        "PREFIX  bd:   <http://www.bigdata.com/rdf#>\n",
        "PREFIX  wdt:  <http://www.wikidata.org/prop/direct/>\n",
        "PREFIX  wikibase: <http://wikiba.se/ontology#>\n",
        "\n",
        "SELECT DISTINCT  ?item ?itemLabel ?itemDescription (SAMPLE(?Name) AS ?NameSample) (SAMPLE(?Company_Official_name) AS ?Company_Official_nameSample) (SAMPLE(?Company_Industry) AS ?Company_IndustrySample) (SAMPLE(?Instance) AS ?InstanceSample) (SAMPLE(?Company_chief_executive_officer) AS ?Company_chief_executive_officer) (SAMPLE(?Company_Country_Origin) AS ?Company_Country_OriginSample) (SAMPLE(?Comany_Inception_date) AS ?Comany_Inception_dateSample) (SAMPLE(?Company_foudner) AS ?Company_foudnerSample) (SAMPLE(?Company_Owned_By) AS ?Company_Owned_BySample) (SAMPLE(?Company_HeadQuarter_Location) AS ?Company_HeadQuarter_LocationSample) (SAMPLE(?Company_Employee_count) AS ?Company_Employee_countSample) (SAMPLE(?Social_Media_Followers) AS ?Social_Media_FollowersSample) (SAMPLE(?Company_Award_Received) AS ?Company_Award_ReceivedSample) (SAMPLE(?Company_Subsidiary) AS ?Company_SubsidiarySample)\n",
        "\n",
        "WHERE\n",
        "\n",
        "'''\n",
        "query = query1 + query2 + query3 + query4\n",
        "\n",
        "\n",
        "r = requests.get(url, params = {'format': 'json', 'query': query})\n",
        "data = r.json()"
      ]
    },
    {
      "cell_type": "markdown",
      "metadata": {
        "id": "Jce6xCUDF3x2"
      },
      "source": [
        "**Checking if generated query is in perfect form**"
      ]
    },
    {
      "cell_type": "code",
      "execution_count": 126,
      "metadata": {
        "colab": {
          "base_uri": "https://localhost:8080/"
        },
        "id": "mhZ8YvGJfSW-",
        "outputId": "ee8da2bf-219c-41bc-c3d1-4342a66fedde"
      },
      "outputs": [
        {
          "name": "stdout",
          "output_type": "stream",
          "text": [
            "\n",
            "PREFIX  schema: <http://schema.org/>\n",
            "PREFIX  bd:   <http://www.bigdata.com/rdf#>\n",
            "PREFIX  wdt:  <http://www.wikidata.org/prop/direct/>\n",
            "PREFIX  wikibase: <http://wikiba.se/ontology#>\n",
            "\n",
            "SELECT DISTINCT  ?item ?itemLabel ?itemDescription (SAMPLE(?Name) AS ?NameSample) (SAMPLE(?Company_Official_name) AS ?Company_Official_nameSample) (SAMPLE(?Company_Industry) AS ?Company_IndustrySample) (SAMPLE(?Instance) AS ?InstanceSample) (SAMPLE(?Company_chief_executive_officer) AS ?Company_chief_executive_officer) (SAMPLE(?Company_Country_Origin) AS ?Company_Country_OriginSample) (SAMPLE(?Comany_Inception_date) AS ?Comany_Inception_dateSample) (SAMPLE(?Company_foudner) AS ?Company_foudnerSample) (SAMPLE(?Company_Owned_By) AS ?Company_Owned_BySample) (SAMPLE(?Company_HeadQuarter_Location) AS ?Company_HeadQuarter_LocationSample) (SAMPLE(?Company_Employee_count) AS ?Company_Employee_countSample) (SAMPLE(?Social_Media_Followers) AS ?Social_Media_FollowersSample) (SAMPLE(?Company_Award_Received) AS ?Company_Award_ReceivedSample) (SAMPLE(?Company_Subsidiary) AS ?Company_SubsidiarySample)\n",
            "\n",
            "WHERE\n",
            "\n",
            "\n",
            "  { ?article  schema:about       ?item ;\n",
            "              schema:inLanguage  \"en\" ;\n",
            "              schema:isPartOf    <https://en.wikipedia.org/>\n",
            "                        \n",
            "    FILTER ( ?item = <http://www.wikidata.org/entity/Q2283> )\n",
            "     \n",
            "   OPTIONAL\n",
            "      { ?item  wdt:P735  ?Name }\n",
            "   OPTIONAL\n",
            "      { ?item  wdt:P1448  ?Company_Official_name }\n",
            "   OPTIONAL\n",
            "      { ?item  wdt:P103  ?Company_Industry }\n",
            "   OPTIONAL\n",
            "      { ?item  wdt:P34  ?Instance }\n",
            "   OPTIONAL\n",
            "      { ?item  wdt:P169  ?Company_chief_executive_officer }\n",
            "   OPTIONAL\n",
            "      { ?item  wdt:P17  ?Company_Country_Origin }\n",
            "   OPTIONAL\n",
            "      { ?item  wdt:P571  ?Comany_Inception_date }\n",
            "   OPTIONAL\n",
            "      { ?item  wdt:P112  ?Company_foudner }\n",
            "   OPTIONAL\n",
            "      { ?item  wdt:P127  ?Company_Owned_By }\n",
            "   OPTIONAL\n",
            "      { ?item  wdt:P159  ?Company_HeadQuarter_Location }\n",
            "   OPTIONAL\n",
            "      { ?item  wdt:P1128  ?Company_Employee_count }\n",
            "   OPTIONAL\n",
            "      { ?item  wdt:P8687  ?Social_Media_Followers }\n",
            "   OPTIONAL\n",
            "      { ?item  wdt:P166   ?Company_Award_Received }\n",
            "   OPTIONAL\n",
            "      { ?item  wdt:P355  ?Company_Subsidiary }\n",
            "   \n",
            "    SERVICE wikibase:label\n",
            "      { bd:serviceParam\n",
            "                  wikibase:language  \"en\"\n",
            "      }\n",
            "  }\n",
            "GROUP BY ?item ?itemLabel ?itemDescription\n",
            "\n"
          ]
        }
      ],
      "source": [
        "print(query)"
      ]
    },
    {
      "cell_type": "markdown",
      "metadata": {
        "id": "Bheg5OykF-Lv"
      },
      "source": [
        "**Checking extracted data extracted with help of the query**"
      ]
    },
    {
      "cell_type": "code",
      "execution_count": 127,
      "metadata": {
        "colab": {
          "base_uri": "https://localhost:8080/"
        },
        "id": "YwBRrRzDfVW-",
        "outputId": "7fec0b9d-ea01-49f8-88a0-65a35adc3596"
      },
      "outputs": [
        {
          "name": "stdout",
          "output_type": "stream",
          "text": [
            "{'head': {'vars': ['item',\n",
            "                   'itemLabel',\n",
            "                   'itemDescription',\n",
            "                   'NameSample',\n",
            "                   'Company_Official_nameSample',\n",
            "                   'Company_IndustrySample',\n",
            "                   'InstanceSample',\n",
            "                   'Company_chief_executive_officer',\n",
            "                   'Company_Country_OriginSample',\n",
            "                   'Comany_Inception_dateSample',\n",
            "                   'Company_foudnerSample',\n",
            "                   'Company_Owned_BySample',\n",
            "                   'Company_HeadQuarter_LocationSample',\n",
            "                   'Company_Employee_countSample',\n",
            "                   'Social_Media_FollowersSample',\n",
            "                   'Company_Award_ReceivedSample',\n",
            "                   'Company_SubsidiarySample']},\n",
            " 'results': {'bindings': [{'Comany_Inception_dateSample': {'datatype': 'http://www.w3.org/2001/XMLSchema#dateTime',\n",
            "                                                           'type': 'literal',\n",
            "                                                           'value': '1976-11-26T00:00:00Z'},\n",
            "                           'Company_Award_ReceivedSample': {'type': 'uri',\n",
            "                                                            'value': 'http://www.wikidata.org/entity/Q110530811'},\n",
            "                           'Company_Country_OriginSample': {'type': 'uri',\n",
            "                                                            'value': 'http://www.wikidata.org/entity/Q30'},\n",
            "                           'Company_Employee_countSample': {'datatype': 'http://www.w3.org/2001/XMLSchema#decimal',\n",
            "                                                            'type': 'literal',\n",
            "                                                            'value': '181000'},\n",
            "                           'Company_HeadQuarter_LocationSample': {'type': 'uri',\n",
            "                                                                  'value': 'http://www.wikidata.org/entity/Q223718'},\n",
            "                           'Company_Official_nameSample': {'type': 'literal',\n",
            "                                                           'value': 'Microsoft '\n",
            "                                                                    'Corporation',\n",
            "                                                           'xml:lang': 'en'},\n",
            "                           'Company_Owned_BySample': {'type': 'uri',\n",
            "                                                      'value': 'http://www.wikidata.org/entity/Q5284'},\n",
            "                           'Company_SubsidiarySample': {'type': 'uri',\n",
            "                                                        'value': 'http://www.wikidata.org/entity/Q364'},\n",
            "                           'Company_chief_executive_officer': {'type': 'uri',\n",
            "                                                               'value': 'http://www.wikidata.org/entity/Q7426870'},\n",
            "                           'Company_foudnerSample': {'type': 'uri',\n",
            "                                                     'value': 'http://www.wikidata.org/entity/Q5284'},\n",
            "                           'Social_Media_FollowersSample': {'datatype': 'http://www.w3.org/2001/XMLSchema#decimal',\n",
            "                                                            'type': 'literal',\n",
            "                                                            'value': '788000'},\n",
            "                           'item': {'type': 'uri',\n",
            "                                    'value': 'http://www.wikidata.org/entity/Q2283'},\n",
            "                           'itemDescription': {'type': 'literal',\n",
            "                                               'value': 'American '\n",
            "                                                        'multinational '\n",
            "                                                        'technology '\n",
            "                                                        'corporation',\n",
            "                                               'xml:lang': 'en'},\n",
            "                           'itemLabel': {'type': 'literal',\n",
            "                                         'value': 'Microsoft',\n",
            "                                         'xml:lang': 'en'}}]}}\n"
          ]
        }
      ],
      "source": [
        "pprint.pprint(data)"
      ]
    },
    {
      "cell_type": "markdown",
      "metadata": {
        "id": "pKjmXukYGJbA"
      },
      "source": [
        "**Checking nested dictionary's functionality**"
      ]
    },
    {
      "cell_type": "code",
      "execution_count": 128,
      "metadata": {
        "colab": {
          "base_uri": "https://localhost:8080/"
        },
        "id": "uCrI7GQ0fdyx",
        "outputId": "04955b86-e58e-40c2-d67e-bf0deaff3f05"
      },
      "outputs": [
        {
          "name": "stdout",
          "output_type": "stream",
          "text": [
            "Company_Country_OriginSample\n"
          ]
        }
      ],
      "source": [
        "print(data['head']['vars'][8])"
      ]
    },
    {
      "cell_type": "code",
      "execution_count": 129,
      "metadata": {
        "id": "xc3D1ru_fezD"
      },
      "outputs": [],
      "source": [
        "# print(data['results']['bindings'][0]['NameSample']['value'])"
      ]
    },
    {
      "cell_type": "markdown",
      "metadata": {
        "id": "nYgAX8jnGZMn"
      },
      "source": [
        "**Converting data to usable form: **\n",
        "\n",
        "1.   Convertion of extracted data to usable variables.\n",
        "2.   Converting the data links to labels that could be used in text\n",
        "1.   Making sentences for the newly made variables.\n",
        "2.   printing of the variables \n",
        "\n",
        "Note : If any of the existing steps fails the variable will be skipped hence either the data is not present or non-editable."
      ]
    },
    {
      "cell_type": "markdown",
      "metadata": {
        "id": "Gz6m91DTH2gt"
      },
      "source": [
        "*All the variables that were required in all the groups are pre-labeled.*"
      ]
    },
    {
      "cell_type": "code",
      "execution_count": 138,
      "metadata": {
        "colab": {
          "base_uri": "https://localhost:8080/"
        },
        "id": "mVe0NRaSfiWV",
        "outputId": "4625619d-cd88-445b-9232-8f1a470e482b"
      },
      "outputs": [
        {
          "name": "stdout",
          "output_type": "stream",
          "text": [
            "Microsoft was mojorly found by Bill Gates.\n",
            "It was incepted on 1976-11-26T00:00:00Z.\n",
            "It has its official name as Microsoft Corporation.\n",
            "It has its Origin country as United States of America.\n",
            "It has its present chief executive officer as Satya Nadella.\n",
            "It is owned by Bill Gates.\n",
            "It has its major subsidiary GitHub.\n",
            "It has its HeadQuarter location as Redmond.\n",
            "It has 181000 employee.\n",
            "It has 788000 number of social media followers.\n",
            "It has received the BigBrotherAwards.\n"
          ]
        }
      ],
      "source": [
        "Company = data['results']['bindings'][0]['itemLabel']['value']\n",
        "output = ''\n",
        "try:\n",
        "  Description = data['results']['bindings'][0]['itemDescription']['value']\n",
        "  Comp_Descriptio = ConverterFxn(Comp_Descriptio)\n",
        "  Company_Descriptio = f'''It is {Description}'''\n",
        "  print(Company_Descriptio)\n",
        "  output = output + Company_Descriptio\n",
        "except:\n",
        "  pass  \n",
        "\n",
        "try:\n",
        "  Company_foudner = data['results']['bindings'][0]['Company_foudnerSample']['value']\n",
        "  Company_founder = ConverterFxn(Company_foudner)\n",
        "  Company_founder = f'''{Company} was mojorly found by {Company_founder}.'''\n",
        "  print(Company_founder)\n",
        "  output = output + Company_founder\n",
        "except:\n",
        "  pass\n",
        "\n",
        "try:\n",
        "  Comany_Inception_date = data['results']['bindings'][0]['Comany_Inception_dateSample']['value']\n",
        "  Company_Inception = f'''It was incepted on {Comany_Inception_date}.'''\n",
        "  print(Company_Inception)\n",
        "  output = output + Company_Inception\n",
        "except:\n",
        "  pass\n",
        "\n",
        "try:\n",
        "  Company_Official_Name = data['results']['bindings'][0]['Company_Official_Name']['value']\n",
        "  Company_Official_Name = ConverterFxn(Company_Official_Name)\n",
        "  Company_Official_Name = f'''It has its official name as {Company_Official_name}.'''\n",
        "  print(Company_Official_Name)\n",
        "  output = output + Company_Official_Name\n",
        "except:\n",
        "  pass\n",
        "\n",
        "try:\n",
        "  Company_Official_name = data['results']['bindings'][0]['Company_Official_nameSample']['value']\n",
        "  Company_Official_Name = f'''It has its official name as {Company_Official_name}.'''\n",
        "  print(Company_Official_Name)\n",
        "  output = output + Company_Official_Name\n",
        "except:\n",
        "  pass\n",
        "\n",
        "try:\n",
        "  Company_Industry = data['results']['bindings'][0]['Company_IndustrySample']['value']\n",
        "  Comapny_Industry = ConverterFxn(Comapny_Industry)\n",
        "  Comapny_Industry =  f'''It comes under the {Company_Industry}.'''\n",
        "  print(Comapny_Industry)\n",
        "  output = output + Comapny_Industry\n",
        "except:\n",
        "  pass\n",
        "\n",
        "try:\n",
        "  Instance = data['results']['bindings'][0]['InstanceSample']['value']\n",
        "  Company_Instance = ConverterFxn(Company_Instance)\n",
        "  Company_Instance =  f'''It is an instance of {Instance}'''\n",
        "  print(Company_Instance)\n",
        "  output = output + Company_Instance\n",
        "except:\n",
        "  pass\n",
        "\n",
        "try:\n",
        "  Company_Country_Origin = data['results']['bindings'][0]['Company_Country_OriginSample']['value']\n",
        "  Company_Country_Origin = ConverterFxn(Company_Country_Origin)\n",
        "  Company_Country_Origin = f'''It has its Origin country as {Company_Country_Origin}.'''\n",
        "  print(Company_Country_Origin)\n",
        "  output = output + Company_Country_Origin\n",
        "except:\n",
        "  pass\n",
        "\n",
        "try:\n",
        "  Company_chief_executive_officer = data['results']['bindings'][0]['Company_chief_executive_officer']['value']\n",
        "  Company_chief_executive_officer = ConverterFxn(Company_chief_executive_officer)\n",
        "  Company_chief_executive_officer = f'''It has its present chief executive officer as {Company_chief_executive_officer}.'''\n",
        "  print(Company_chief_executive_officer)\n",
        "  output = output + Company_chief_executive_officer\n",
        "except:\n",
        "  pass\n",
        "\n",
        "try:\n",
        "  Company_Owned_By = data['results']['bindings'][0]['Company_Owned_BySample']['value']\n",
        "  Company_Owned_By = ConverterFxn(Company_Owned_By)\n",
        "  Company_Owned_By = f'''It is owned by {Company_Owned_By}.'''\n",
        "  print(Company_Owned_By)\n",
        "  output = output + Company_Owned_By\n",
        "except:\n",
        "  pass\n",
        "\n",
        "try:\n",
        "  Company_Subsidiary = data['results']['bindings'][0]['Company_SubsidiarySample']['value']\n",
        "  Company_Subsidiary = ConverterFxn(Company_Subsidiary)\n",
        "  Company_Subsidary = f'''It has its major subsidiary {Company_Subsidiary}.''' \n",
        "  print(Company_Subsidary)\n",
        "  output = output + Company_Subsidary\n",
        "except:\n",
        "  pass\n",
        "\n",
        "try:\n",
        "  Company_HeadQuarter_Location = NetWorth = data['results']['bindings'][0]['Company_HeadQuarter_LocationSample']['value']\n",
        "  Company_HeadQuarter_Location = ConverterFxn(Company_HeadQuarter_Location)\n",
        "  Company_HeadQuarter_Location = f'''It has its HeadQuarter location as {Company_HeadQuarter_Location}.'''\n",
        "  print(Company_HeadQuarter_Location)\n",
        "  output = output + Company_HeadQuarter_Location\n",
        "except:\n",
        "  pass\n",
        "\n",
        "try:\n",
        "  Company_Employee_count = NetWorth = data['results']['bindings'][0]['Company_Employee_countSample']['value']\n",
        "  Company_Employee_count = f'''It has {Company_Employee_count} employee.'''\n",
        "  print(Company_Employee_count)\n",
        "  output = output + Company_Employee_count\n",
        "except:\n",
        "  pass\n",
        "\n",
        "try:\n",
        "  Company_Social_Media = NetWorth = data['results']['bindings'][0]['Social_Media_FollowersSample']['value']\n",
        "  Company_Social_Media = f'''It has {Company_Social_Media} number of social media followers.'''\n",
        "  print(Company_Social_Media)\n",
        "  output = output + Company_Social_Media\n",
        "except:\n",
        "  pass\n",
        "\n",
        "try:\n",
        "  Company_Award_Received = NetWorth = data['results']['bindings'][0]['Company_Award_ReceivedSample']['value']\n",
        "  Company_Award_Received = ConverterFxn(Company_Award_Received)\n",
        "  Company_Award_Received = f'''It has received the {Company_Award_Received}.'''\n",
        "  print(Company_Award_Received)\n",
        "  output = output + Company_Award_Received\n",
        "except:\n",
        "  pass"
      ]
    },
    {
      "cell_type": "code",
      "execution_count": 136,
      "metadata": {
        "colab": {
          "base_uri": "https://localhost:8080/"
        },
        "id": "Xj1EA9VR9r3x",
        "outputId": "c527566b-fe96-4471-9772-6ce5979760c1"
      },
      "outputs": [
        {
          "name": "stdout",
          "output_type": "stream",
          "text": [
            "('Microsoft was mojorly found by Bill Gates.Microsoft was incepted on '\n",
            " '1976-11-26T00:00:00Z.Microsoft has its official name as Microsoft '\n",
            " 'Corporation.Microsoft has its Origin country as United States of '\n",
            " 'America.Microsoft has its present chief executive officer as Satya '\n",
            " 'Nadella.Microsoft is owned by Bill Gates.Microsoft has its major subsidiary '\n",
            " 'GitHub.Microsoft has its HeadQuarter location as Redmond.Microsoft has '\n",
            " '181000 employee.Microsoft has 788000 number of social media '\n",
            " 'followers.Microsoft has received the BigBrotherAwards.')\n"
          ]
        }
      ],
      "source": [
        "pprint.pprint(output)"
      ]
    }
  ],
  "metadata": {
    "colab": {
      "provenance": []
    },
    "kernelspec": {
      "display_name": "Python 3",
      "name": "python3"
    },
    "language_info": {
      "name": "python"
    }
  },
  "nbformat": 4,
  "nbformat_minor": 0
}
