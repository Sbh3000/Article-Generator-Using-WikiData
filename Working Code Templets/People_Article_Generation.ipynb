{
  "nbformat": 4,
  "nbformat_minor": 0,
  "metadata": {
    "colab": {
      "provenance": []
    },
    "kernelspec": {
      "name": "python3",
      "display_name": "Python 3"
    },
    "language_info": {
      "name": "python"
    }
  },
  "cells": [
    {
      "cell_type": "markdown",
      "source": [
        "**This function is used to extract tbe label value of the string.**"
      ],
      "metadata": {
        "id": "MbI08nIXDXCt"
      }
    },
    {
      "cell_type": "markdown",
      "source": [
        "As all the inputs are nested links in wiki data so its necessary to extaract the label using Web scraping.\n",
        "Used BeautifulSoup"
      ],
      "metadata": {
        "id": "PWnPWvtuD8xR"
      }
    },
    {
      "cell_type": "code",
      "source": [
        "from urllib.request import urlopen\n",
        "from bs4 import BeautifulSoup\n",
        "\n",
        "import pprint\n",
        "import requests\n",
        "# Defined a function to convert links to labels to put in text \n",
        "def ConverterFxn(input_Values):\n",
        "  input_Values = input_Values.replace('entity','wiki')\n",
        "  html = urlopen(input_Values)\n",
        "  bsh = BeautifulSoup(html.read(), 'html.parser')\n",
        "  x = bsh.h1\n",
        "  x = str(x)\n",
        "  # Converting link to usable form as extracted links are nested <Label type> and cant be used to web scrape\n",
        "  Lidx = x.find('</span>')\n",
        "  Iidx = x.find('wikibase-title-label') + 22\n",
        "  New_string = \"\"\n",
        "  for i in range(Iidx,Lidx):\n",
        "    New_string = New_string + x[i]\n",
        "  return(New_string)"
      ],
      "metadata": {
        "id": "RH-lqMca6fkd"
      },
      "execution_count": null,
      "outputs": []
    },
    {
      "cell_type": "markdown",
      "source": [],
      "metadata": {
        "id": "G4waX_XskRY2"
      }
    },
    {
      "cell_type": "code",
      "source": [
        "import pprint\n",
        "from pydoc import describe\n",
        "from re import S\n",
        "import requests\n",
        "# To Get Search Result we search the query o wiki data search box utilise the most relevant search\n",
        "API_ENDPOINT = \"https://www.wikidata.org/w/api.php\"\n",
        "query = input('Search Here ')\n",
        "\n",
        "params = {\n",
        "    'action': 'wbsearchentities',\n",
        "    'format': 'json',\n",
        "    'language': 'en',\n",
        "    'search': query\n",
        "}\n",
        "\n",
        "r = requests.get(API_ENDPOINT, params = params)\n",
        "Data = r.json()['search'][0]\n",
        "print(r.json()['search'][0])"
      ],
      "metadata": {
        "colab": {
          "base_uri": "https://localhost:8080/"
        },
        "id": "10v_GVXAe2Wr",
        "outputId": "3da40495-b2c1-4211-899d-f99bfb11d8e0"
      },
      "execution_count": null,
      "outputs": [
        {
          "output_type": "stream",
          "name": "stdout",
          "text": [
            "Search Here Narendra Modi\n",
            "{'id': 'Q1058', 'title': 'Q1058', 'pageid': 1396, 'display': {'label': {'value': 'Narendra Modi', 'language': 'en'}, 'description': {'value': '15th Prime Minister of India', 'language': 'en'}}, 'repository': 'wikidata', 'url': '//www.wikidata.org/wiki/Q1058', 'concepturi': 'http://www.wikidata.org/entity/Q1058', 'label': 'Narendra Modi', 'description': '15th Prime Minister of India', 'match': {'type': 'label', 'language': 'en', 'text': 'Narendra Modi'}}\n"
          ]
        }
      ]
    },
    {
      "cell_type": "markdown",
      "source": [
        "**Checking if the Data (initial) is working**"
      ],
      "metadata": {
        "id": "BndhkaW0FGCS"
      }
    },
    {
      "cell_type": "code",
      "source": [
        "# Checking the functionality of link of page from which we will extracct data\n",
        "print(Data['concepturi'])"
      ],
      "metadata": {
        "colab": {
          "base_uri": "https://localhost:8080/"
        },
        "id": "Kx4fugBze3EM",
        "outputId": "385d9f1a-96d6-48dd-b225-7f65c4494a83"
      },
      "execution_count": null,
      "outputs": [
        {
          "output_type": "stream",
          "name": "stdout",
          "text": [
            "http://www.wikidata.org/entity/Q1058\n"
          ]
        }
      ]
    },
    {
      "cell_type": "markdown",
      "source": [
        "Installing qwikidata api"
      ],
      "metadata": {
        "id": "MYPtowE6FZJt"
      }
    },
    {
      "cell_type": "code",
      "source": [
        "!pip3 install qwikidata"
      ],
      "metadata": {
        "colab": {
          "base_uri": "https://localhost:8080/"
        },
        "id": "jHkHbEZCe4fD",
        "outputId": "29f17692-dbb3-450c-8407-ae84e89256b4"
      },
      "execution_count": null,
      "outputs": [
        {
          "output_type": "stream",
          "name": "stdout",
          "text": [
            "Looking in indexes: https://pypi.org/simple, https://us-python.pkg.dev/colab-wheels/public/simple/\n",
            "Collecting qwikidata\n",
            "  Downloading qwikidata-0.4.2.tar.gz (22 kB)\n",
            "Collecting mypy-extensions\n",
            "  Downloading mypy_extensions-0.4.3-py2.py3-none-any.whl (4.5 kB)\n",
            "Requirement already satisfied: requests in /usr/local/lib/python3.7/dist-packages (from qwikidata) (2.23.0)\n",
            "Requirement already satisfied: chardet<4,>=3.0.2 in /usr/local/lib/python3.7/dist-packages (from requests->qwikidata) (3.0.4)\n",
            "Requirement already satisfied: certifi>=2017.4.17 in /usr/local/lib/python3.7/dist-packages (from requests->qwikidata) (2022.9.24)\n",
            "Requirement already satisfied: idna<3,>=2.5 in /usr/local/lib/python3.7/dist-packages (from requests->qwikidata) (2.10)\n",
            "Requirement already satisfied: urllib3!=1.25.0,!=1.25.1,<1.26,>=1.21.1 in /usr/local/lib/python3.7/dist-packages (from requests->qwikidata) (1.24.3)\n",
            "Building wheels for collected packages: qwikidata\n",
            "  Building wheel for qwikidata (setup.py) ... \u001b[?25l\u001b[?25hdone\n",
            "  Created wheel for qwikidata: filename=qwikidata-0.4.2-py3-none-any.whl size=24886 sha256=c1ebe4de6fb088b6078049cda82063c4139d680d0d5e9e79a52776e6e526f42c\n",
            "  Stored in directory: /root/.cache/pip/wheels/24/cc/fa/8bef9d5c734d2e64b900d40eea758d7c3dbf3b4ca6d0bb018f\n",
            "Successfully built qwikidata\n",
            "Installing collected packages: mypy-extensions, qwikidata\n",
            "Successfully installed mypy-extensions-0.4.3 qwikidata-0.4.2\n"
          ]
        }
      ]
    },
    {
      "cell_type": "markdown",
      "source": [
        "Installing mkwikidata"
      ],
      "metadata": {
        "id": "rHKutVSzFct2"
      }
    },
    {
      "cell_type": "code",
      "source": [
        "!pip3 install mkwikidata"
      ],
      "metadata": {
        "colab": {
          "base_uri": "https://localhost:8080/",
          "height": 391
        },
        "id": "StUVc4FZe7N2",
        "outputId": "9aac9ddf-ef4c-4119-b62a-ecf7248da539"
      },
      "execution_count": null,
      "outputs": [
        {
          "output_type": "stream",
          "name": "stdout",
          "text": [
            "Looking in indexes: https://pypi.org/simple, https://us-python.pkg.dev/colab-wheels/public/simple/\n",
            "Collecting mkwikidata\n",
            "  Downloading mkwikidata-0.14-py2.py3-none-any.whl (3.0 kB)\n",
            "Collecting requests>=2.25.1\n",
            "  Downloading requests-2.28.1-py3-none-any.whl (62 kB)\n",
            "\u001b[K     |████████████████████████████████| 62 kB 1.2 MB/s \n",
            "\u001b[?25hRequirement already satisfied: certifi>=2017.4.17 in /usr/local/lib/python3.7/dist-packages (from requests>=2.25.1->mkwikidata) (2022.9.24)\n",
            "Requirement already satisfied: urllib3<1.27,>=1.21.1 in /usr/local/lib/python3.7/dist-packages (from requests>=2.25.1->mkwikidata) (1.24.3)\n",
            "Requirement already satisfied: charset-normalizer<3,>=2 in /usr/local/lib/python3.7/dist-packages (from requests>=2.25.1->mkwikidata) (2.1.1)\n",
            "Requirement already satisfied: idna<4,>=2.5 in /usr/local/lib/python3.7/dist-packages (from requests>=2.25.1->mkwikidata) (2.10)\n",
            "Installing collected packages: requests, mkwikidata\n",
            "  Attempting uninstall: requests\n",
            "    Found existing installation: requests 2.23.0\n",
            "    Uninstalling requests-2.23.0:\n",
            "      Successfully uninstalled requests-2.23.0\n",
            "Successfully installed mkwikidata-0.14 requests-2.28.1\n"
          ]
        },
        {
          "output_type": "display_data",
          "data": {
            "application/vnd.colab-display-data+json": {
              "pip_warning": {
                "packages": [
                  "requests"
                ]
              }
            }
          },
          "metadata": {}
        }
      ]
    },
    {
      "cell_type": "markdown",
      "source": [
        "**Code to make/edit optimised queries for different links and instances**"
      ],
      "metadata": {
        "id": "6PsHkSn9FgVF"
      }
    },
    {
      "cell_type": "code",
      "source": [
        "\n",
        "import pprint\n",
        "import mkwikidata\n",
        "\n",
        "import requests\n",
        "\n",
        "query2 = '''\n",
        "  { ?article  schema:about       ?item ;\n",
        "              schema:inLanguage  \"en\" ;\n",
        "              schema:isPartOf    <https://en.wikipedia.org/>\n",
        "              '''              \n",
        "query3 = f'''          \n",
        "    FILTER ( ?item = <{Data['concepturi']}> )\n",
        "    '''\n",
        "query4 = ''' \n",
        "   OPTIONAL\n",
        "      { ?item  wdt:P735  ?Name }\n",
        "   OPTIONAL\n",
        "      { ?item wdt:P21  ?Gender }\n",
        "   OPTIONAL\n",
        "      { ?item  wdt:P103  ?F_language }\n",
        "   OPTIONAL\n",
        "      { ?item  wdt:P569  ?Born_date }\n",
        "   OPTIONAL\n",
        "      { ?item  wdt:P570  ?RIP }\n",
        "   OPTIONAL\n",
        "      { ?item  wdt:P19  ?Birth_City }\n",
        "   OPTIONAL\n",
        "      { ?item  wdt:P27  ?Ntn }\n",
        "   OPTIONAL\n",
        "      { ?item  wdt:P22  ?Father_Name }\n",
        "   OPTIONAL\n",
        "      { ?item  wdt:P25  ?Mother_Name }\n",
        "   OPTIONAL\n",
        "      { ?item  wdt:P69  ?Person_Edu }\n",
        "   OPTIONAL\n",
        "      { ?item  wdt:P21  ?Pronoun }\n",
        "   OPTIONAL\n",
        "      { ?item  wdt:P106  ?Person_Work }\n",
        "   OPTIONAL\n",
        "      { ?item  wdt:P2218  ?NetWorth }\n",
        "   OPTIONAL\n",
        "      { ?item  wdt:P8687  ?SocialMedia_Followers }\n",
        "   OPTIONAL\n",
        "      { ?item  wdt:P140  ?Person_Religion }\n",
        "    SERVICE wikibase:label\n",
        "      { bd:serviceParam\n",
        "                  wikibase:language  \"en\"\n",
        "      }\n",
        "  }\n",
        "GROUP BY ?item ?itemLabel ?itemDescription\n",
        "'''\n",
        "\n",
        "\n",
        "url = 'https://query.wikidata.org/sparql'\n",
        "query1 = f'''\n",
        "PREFIX  schema: <http://schema.org/>\n",
        "PREFIX  bd:   <http://www.bigdata.com/rdf#>\n",
        "PREFIX  wdt:  <http://www.wikidata.org/prop/direct/>\n",
        "PREFIX  wikibase: <http://wikiba.se/ontology#>\n",
        "\n",
        "SELECT DISTINCT  ?item ?itemLabel ?itemDescription (SAMPLE(?Name) AS ?NameSample) (SAMPLE(?F_language) AS ?F_languageSample) (SAMPLE(?Person_Edu) AS ?Person_EduSample) (SAMPLE(?Pronoun) AS ?PronounSample) (SAMPLE(?Person_Work) AS ?Person_WorkSample) (SAMPLE(?Father_Name) AS ?Father_NameSample) (SAMPLE(?Mother_Name) AS ?Mother_NameSample) (SAMPLE(?Born_date) AS ?Born_dateSample) (SAMPLE(?Birth_City) AS ?Birth_CitySample) (SAMPLE(?article) AS ?articleSample)(SAMPLE(?RIP) AS ?RIPSample) (SAMPLE(?Ntn) AS ?NtnSample) (SAMPLE(?Person_Religion) AS ?Person_ReligionSample) (SAMPLE(?SocialMedia_Followers) AS ?SocialMedia_FollowersSample) (SAMPLE(?NetWorth) AS ?NetWorthSample) (SAMPLE(?Gender) AS ?GenderSample)\n",
        "WHERE\n",
        "\n",
        "'''\n",
        "query = query1 + query2 + query3 + query4\n",
        "\n",
        "\n",
        "r = requests.get(url, params = {'format': 'json', 'query': query})\n",
        "data = r.json()\n"
      ],
      "metadata": {
        "id": "yu0R0z4FfQ5a"
      },
      "execution_count": null,
      "outputs": []
    },
    {
      "cell_type": "markdown",
      "source": [
        "**Checking if generated query is in perfect form**"
      ],
      "metadata": {
        "id": "Jce6xCUDF3x2"
      }
    },
    {
      "cell_type": "code",
      "source": [
        "print(query)"
      ],
      "metadata": {
        "colab": {
          "base_uri": "https://localhost:8080/"
        },
        "id": "mhZ8YvGJfSW-",
        "outputId": "e3a4c076-478d-4b7f-f0ea-4924b7172c72"
      },
      "execution_count": null,
      "outputs": [
        {
          "output_type": "stream",
          "name": "stdout",
          "text": [
            "\n",
            "PREFIX  schema: <http://schema.org/>\n",
            "PREFIX  bd:   <http://www.bigdata.com/rdf#>\n",
            "PREFIX  wdt:  <http://www.wikidata.org/prop/direct/>\n",
            "PREFIX  wikibase: <http://wikiba.se/ontology#>\n",
            "\n",
            "SELECT DISTINCT  ?item ?itemLabel ?itemDescription (SAMPLE(?Name) AS ?NameSample) (SAMPLE(?F_language) AS ?F_languageSample) (SAMPLE(?Person_Edu) AS ?Person_EduSample) (SAMPLE(?Pronoun) AS ?PronounSample) (SAMPLE(?Person_Work) AS ?Person_WorkSample) (SAMPLE(?Father_Name) AS ?Father_NameSample) (SAMPLE(?Mother_Name) AS ?Mother_NameSample) (SAMPLE(?Born_date) AS ?Born_dateSample) (SAMPLE(?Birth_City) AS ?Birth_CitySample) (SAMPLE(?article) AS ?articleSample)(SAMPLE(?RIP) AS ?RIPSample) (SAMPLE(?Ntn) AS ?NtnSample) (SAMPLE(?Person_Religion) AS ?Person_ReligionSample) (SAMPLE(?SocialMedia_Followers) AS ?SocialMedia_FollowersSample) (SAMPLE(?NetWorth) AS ?NetWorthSample) (SAMPLE(?Gender) AS ?GenderSample)\n",
            "WHERE\n",
            "\n",
            "\n",
            "  { ?article  schema:about       ?item ;\n",
            "              schema:inLanguage  \"en\" ;\n",
            "              schema:isPartOf    <https://en.wikipedia.org/>\n",
            "                        \n",
            "    FILTER ( ?item = <http://www.wikidata.org/entity/Q1058> )\n",
            "     \n",
            "   OPTIONAL\n",
            "      { ?item  wdt:P735  ?Name }\n",
            "   OPTIONAL\n",
            "      { ?item wdt:P21  ?Gender }\n",
            "   OPTIONAL\n",
            "      { ?item  wdt:P103  ?F_language }\n",
            "   OPTIONAL\n",
            "      { ?item  wdt:P569  ?Born_date }\n",
            "   OPTIONAL\n",
            "      { ?item  wdt:P570  ?RIP }\n",
            "   OPTIONAL\n",
            "      { ?item  wdt:P19  ?Birth_City }\n",
            "   OPTIONAL\n",
            "      { ?item  wdt:P27  ?Ntn }\n",
            "   OPTIONAL\n",
            "      { ?item  wdt:P22  ?Father_Name }\n",
            "   OPTIONAL\n",
            "      { ?item  wdt:P25  ?Mother_Name }\n",
            "   OPTIONAL\n",
            "      { ?item  wdt:P69  ?Person_Edu }\n",
            "   OPTIONAL\n",
            "      { ?item  wdt:P21  ?Pronoun }\n",
            "   OPTIONAL\n",
            "      { ?item  wdt:P106  ?Person_Work }\n",
            "   OPTIONAL\n",
            "      { ?item  wdt:P2218  ?NetWorth }\n",
            "   OPTIONAL\n",
            "      { ?item  wdt:P8687  ?SocialMedia_Followers }\n",
            "   OPTIONAL\n",
            "      { ?item  wdt:P140  ?Person_Religion }\n",
            "    SERVICE wikibase:label\n",
            "      { bd:serviceParam\n",
            "                  wikibase:language  \"en\"\n",
            "      }\n",
            "  }\n",
            "GROUP BY ?item ?itemLabel ?itemDescription\n",
            "\n"
          ]
        }
      ]
    },
    {
      "cell_type": "markdown",
      "source": [
        "**Checking extracted data extracted with help of the query**"
      ],
      "metadata": {
        "id": "Bheg5OykF-Lv"
      }
    },
    {
      "cell_type": "code",
      "source": [
        "pprint.pprint(data)"
      ],
      "metadata": {
        "colab": {
          "base_uri": "https://localhost:8080/"
        },
        "id": "YwBRrRzDfVW-",
        "outputId": "4cdeff39-9107-4bc5-851d-1ae3632d1179"
      },
      "execution_count": null,
      "outputs": [
        {
          "output_type": "stream",
          "name": "stdout",
          "text": [
            "{'head': {'vars': ['item',\n",
            "                   'itemLabel',\n",
            "                   'itemDescription',\n",
            "                   'NameSample',\n",
            "                   'F_languageSample',\n",
            "                   'Person_EduSample',\n",
            "                   'PronounSample',\n",
            "                   'Person_WorkSample',\n",
            "                   'Father_NameSample',\n",
            "                   'Mother_NameSample',\n",
            "                   'Born_dateSample',\n",
            "                   'Birth_CitySample',\n",
            "                   'articleSample',\n",
            "                   'RIPSample',\n",
            "                   'NtnSample',\n",
            "                   'Person_ReligionSample',\n",
            "                   'SocialMedia_FollowersSample',\n",
            "                   'NetWorthSample',\n",
            "                   'GenderSample']},\n",
            " 'results': {'bindings': [{'Birth_CitySample': {'type': 'uri',\n",
            "                                                'value': 'http://www.wikidata.org/entity/Q2570726'},\n",
            "                           'Born_dateSample': {'datatype': 'http://www.w3.org/2001/XMLSchema#dateTime',\n",
            "                                               'type': 'literal',\n",
            "                                               'value': '1950-09-17T00:00:00Z'},\n",
            "                           'F_languageSample': {'type': 'uri',\n",
            "                                                'value': 'http://www.wikidata.org/entity/Q5137'},\n",
            "                           'Father_NameSample': {'type': 'uri',\n",
            "                                                 'value': 'http://www.wikidata.org/entity/Q66606210'},\n",
            "                           'GenderSample': {'type': 'uri',\n",
            "                                            'value': 'http://www.wikidata.org/entity/Q6581097'},\n",
            "                           'Mother_NameSample': {'type': 'uri',\n",
            "                                                 'value': 'http://www.wikidata.org/entity/Q105529920'},\n",
            "                           'NameSample': {'type': 'uri',\n",
            "                                          'value': 'http://www.wikidata.org/entity/Q1997184'},\n",
            "                           'NetWorthSample': {'datatype': 'http://www.w3.org/2001/XMLSchema#decimal',\n",
            "                                              'type': 'literal',\n",
            "                                              'value': '391937'},\n",
            "                           'NtnSample': {'type': 'uri',\n",
            "                                         'value': 'http://www.wikidata.org/entity/Q668'},\n",
            "                           'Person_EduSample': {'type': 'uri',\n",
            "                                                'value': 'http://www.wikidata.org/entity/Q507349'},\n",
            "                           'Person_ReligionSample': {'type': 'uri',\n",
            "                                                     'value': 'http://www.wikidata.org/entity/Q9603'},\n",
            "                           'Person_WorkSample': {'type': 'uri',\n",
            "                                                 'value': 'http://www.wikidata.org/entity/Q36180'},\n",
            "                           'PronounSample': {'type': 'uri',\n",
            "                                             'value': 'http://www.wikidata.org/entity/Q6581097'},\n",
            "                           'SocialMedia_FollowersSample': {'datatype': 'http://www.w3.org/2001/XMLSchema#decimal',\n",
            "                                                           'type': 'literal',\n",
            "                                                           'value': '10500000'},\n",
            "                           'articleSample': {'type': 'uri',\n",
            "                                             'value': 'https://en.wikipedia.org/wiki/Narendra_Modi'},\n",
            "                           'item': {'type': 'uri',\n",
            "                                    'value': 'http://www.wikidata.org/entity/Q1058'},\n",
            "                           'itemDescription': {'type': 'literal',\n",
            "                                               'value': '15th Prime Minister '\n",
            "                                                        'of India',\n",
            "                                               'xml:lang': 'en'},\n",
            "                           'itemLabel': {'type': 'literal',\n",
            "                                         'value': 'Narendra Modi',\n",
            "                                         'xml:lang': 'en'}}]}}\n"
          ]
        }
      ]
    },
    {
      "cell_type": "markdown",
      "source": [
        "**Checking nested dictionary's functionality**"
      ],
      "metadata": {
        "id": "pKjmXukYGJbA"
      }
    },
    {
      "cell_type": "code",
      "source": [
        "print(data['head']['vars'][8])"
      ],
      "metadata": {
        "colab": {
          "base_uri": "https://localhost:8080/"
        },
        "id": "uCrI7GQ0fdyx",
        "outputId": "bde429e3-c158-4738-c73e-3b3dfbefefa9"
      },
      "execution_count": null,
      "outputs": [
        {
          "output_type": "stream",
          "name": "stdout",
          "text": [
            "Father_NameSample\n"
          ]
        }
      ]
    },
    {
      "cell_type": "code",
      "source": [
        "# print(data['results']['bindings'][0]['NameSample']['value'])"
      ],
      "metadata": {
        "id": "xc3D1ru_fezD"
      },
      "execution_count": null,
      "outputs": []
    },
    {
      "cell_type": "markdown",
      "source": [
        "**Converting data to usable form: **\n",
        "\n",
        "1.   Convertion of extracted data to usable variables.\n",
        "2.   Converting the data links to labels that could be used in text\n",
        "1.   Making sentences for the newly made variables.\n",
        "2.   printing of the variables \n",
        "\n",
        "Note : If any of the existing steps fails the variable will be skipped hence either the data is not present or non-editable."
      ],
      "metadata": {
        "id": "nYgAX8jnGZMn"
      }
    },
    {
      "cell_type": "markdown",
      "source": [
        "*All the variables that were required in all the groups are pre-labeled.*"
      ],
      "metadata": {
        "id": "Gz6m91DTH2gt"
      }
    },
    {
      "cell_type": "code",
      "source": [
        "\n",
        "Name = data['results']['bindings'][0]['itemLabel']['value']\n",
        "Gender = data['results']['bindings'][0]['GenderSample']['value']\n",
        "Gender = ConverterFxn(Gender)\n",
        "if(Gender == 'male'):\n",
        "  Pronoun = 'He'\n",
        "  Prenoun = 'his' \n",
        "if(Gender == 'female'):\n",
        "  Pronoun = 'She'\n",
        "  Prenoun = 'her'\n",
        "if(Gender != 'female' and Gender != 'male'):\n",
        "  Pronoun = 'They'\n",
        "  Prenoun = 'them'\n",
        "\n",
        "try:\n",
        "  Person_Description = data['results']['bindings'][0]['itemDescription']['value']\n",
        "  Description = f'''{Name} is {Person_Description}.'''\n",
        "  print(Description,end = ' ')\n",
        "except:\n",
        "  pass\n",
        "\n",
        "try:\n",
        "  Born_date = data['results']['bindings'][0]['Born_dateSample']['value']\n",
        "  Person_DOB = f'''{Pronoun} was born on {Born_date}.'''\n",
        "  print(Person_DOB,end = ' ')\n",
        "\n",
        "except:\n",
        "  pass  \n",
        "\n",
        "try:\n",
        "  Birth_City = data['results']['bindings'][0]['Birth_CitySample']['value']\n",
        "  Birth_City = ConverterFxn(Birth_City)\n",
        "  Place_Of_Birth = f'''{Pronoun} was born in city of {Birth_City}.'''\n",
        "  print(Place_Of_Birth,end = ' ')\n",
        "except:\n",
        "  pass  \n",
        "\n",
        "try:\n",
        "  Person_Education = data['results']['bindings'][0]['Person_EduSample']['value']\n",
        "  Person_Education = ConverterFxn(Person_Education)\n",
        "  Person_CATEGORY_Education = f'''{Name} got {Prenoun} formal education for {Person_Education}.'''\n",
        "  print(Person_CATEGORY_Education,end = ' ')\n",
        "except:\n",
        "  pass\n",
        "\n",
        "try:\n",
        "  F_language = data['results']['bindings'][0]['F_languageSample']['value']\n",
        "  F_language = ConverterFxn(F_language)\n",
        "  First_CATEGORY_language = f'''{Pronoun} speaks {F_language} in day to day life.'''\n",
        "  print(First_CATEGORY_language,end = ' ')\n",
        "except:\n",
        "  pass  \n",
        "\n",
        "try:\n",
        "  Father_Name = data['results']['bindings'][0]['Father_NameSample']['value']\n",
        "  Father_Name = ConverterFxn(Father_Name)\n",
        "  Mother_Name = data['results']['bindings'][0]['Mother_NameSample']['value']\n",
        "  Mother_Name = ConverterFxn(Mother_Name)\n",
        "  Family_Parents = f'''{Prenoun} family include father {Father_Name} and Mother {Mother_Name}.'''\n",
        "  print(Family_Parents,end = ' ')\n",
        "except:\n",
        "  pass  \n",
        "try:\n",
        "  Old_Name= data['results']['bindings'][0]['NameSample']['value']\n",
        "  Old_Name = ConverterFxn(Old_Name)\n",
        "  Common_Name = f'''{Pronoun} is also well know by name {Old_Name}.'''\n",
        "  print(Common_Name,end = ' ')\n",
        "except:\n",
        "  pass\n",
        "try:\n",
        "  Ntn = data['results']['bindings'][0]['NtnSample']['value']\n",
        "  Ntn = ConverterFxn(Ntn)\n",
        "  Person_Citizenship = f'''{Pronoun} is a proud citizen of {Ntn}.'''\n",
        "  print(Person_Citizenship,end = ' ')\n",
        "except:\n",
        "  pass\n",
        "try:\n",
        "  Person_Religion = data['results']['bindings'][0]['Person_ReligionSample']['value']\n",
        "  Person_Religion = ConverterFxn(Person_Religion)\n",
        "  Person_CATEGORY_Religion = f'''{Pronoun} follows {Person_Religion}.'''\n",
        "  print(Person_CATEGORY_Religion,end = ' ')\n",
        "except:\n",
        "  pass\n",
        "try:\n",
        "  Person_Work = data['results']['bindings'][0]['Person_WorkSample']['value']\n",
        "  Person_Work = ConverterFxn(Person_Work)\n",
        "  Occupation = f'''{Prenoun} occupation as {Person_Work}.'''\n",
        "  print(Occupation,end = ' ')\n",
        "except:\n",
        "  pass\n",
        "\n",
        "\n",
        "try:\n",
        "  NetWorth = data['results']['bindings'][0]['NetWorthSample']['value']\n",
        "  Person_NetWorth = f'''{Name} is proud owner of NetWorth equating {NetWorth}.'''\n",
        "  print(Person_NetWorth,end = ' ')\n",
        "except:\n",
        "  pass\n",
        "try:\n",
        "  SocialMedia_Followers = NetWorth = data['results']['bindings'][0]['SocialMedia_FollowersSample']['value']\n",
        "  Person_SocialMedia_CATEGORY_Followers = f'''{Pronoun} has a individual social media followe count of {SocialMedia_Followers}.'''\n",
        "  print(Person_SocialMedia_CATEGORY_Followers,end = ' ')\n",
        "except:\n",
        "  pass\n",
        "\n",
        "try:\n",
        "  RIP = data['results']['bindings'][0]['RIPSample']['value']\n",
        "  END_Game = f'''{Pronoun} passed away on {RIP}'''\n",
        "  print(END_Game,end = ' ')\n",
        "except:\n",
        "  pass"
      ],
      "metadata": {
        "colab": {
          "base_uri": "https://localhost:8080/"
        },
        "id": "mVe0NRaSfiWV",
        "outputId": "b46deeef-a2eb-4e06-824d-9257c7e164b9"
      },
      "execution_count": null,
      "outputs": [
        {
          "output_type": "stream",
          "name": "stdout",
          "text": [
            "Narendra Modi is 15th Prime Minister of India. He was born on 1950-09-17T00:00:00Z. He was born in city of Vadnagar. Narendra Modi got his formal education for Gujarat University. He speaks Gujarati in day to day life. his family include father Damodardas Mulchand Modi and Mother Heeraben Modi. He is also well know by name Damodar. He is a proud citizen of India. He follows Sufism. his occupation as writer. Narendra Modi is proud owner of NetWorth equating 391937. He has a individual social media followe count of 10500000. "
          ]
        }
      ]
    },
    {
      "cell_type": "markdown",
      "source": [
        "*Note : This code gives a one time output.*"
      ],
      "metadata": {
        "id": "lVcmdaNCHrCG"
      }
    }
  ]
}